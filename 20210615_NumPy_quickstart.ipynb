{
 "cells": [
  {
   "cell_type": "markdown",
   "id": "2826e50c",
   "metadata": {},
   "source": [
    "# official guide\n",
    "> https://numpy.org/doc/stable/user/quickstart.html"
   ]
  },
  {
   "cell_type": "code",
   "execution_count": 1,
   "id": "1a857980",
   "metadata": {},
   "outputs": [
    {
     "name": "stdout",
     "output_type": "stream",
     "text": [
      "1.20.1\n"
     ]
    }
   ],
   "source": [
    "import numpy\n",
    "print(numpy.__version__)"
   ]
  },
  {
   "cell_type": "code",
   "execution_count": 2,
   "id": "c5c5357d",
   "metadata": {},
   "outputs": [
    {
     "name": "stdout",
     "output_type": "stream",
     "text": [
      "1.20.1\n"
     ]
    }
   ],
   "source": [
    "import numpy as np\n",
    "print(np.__version__)  # version check"
   ]
  },
  {
   "cell_type": "code",
   "execution_count": 3,
   "id": "a37190b1",
   "metadata": {},
   "outputs": [
    {
     "data": {
      "text/plain": [
       "array([[ 0,  1,  2,  3,  4],\n",
       "       [ 5,  6,  7,  8,  9],\n",
       "       [10, 11, 12, 13, 14]])"
      ]
     },
     "execution_count": 3,
     "metadata": {},
     "output_type": "execute_result"
    }
   ],
   "source": [
    "a = np.arange(15).reshape(3, 5)\n",
    "a"
   ]
  },
  {
   "cell_type": "markdown",
   "id": "c8be569b",
   "metadata": {},
   "source": [
    "#### ndarray.shape  \n",
    "배열의 차원. 이것은 각 차원에서 배열의 크기를 나타내는 정수의 튜플입니다. 매트릭스와 n 개의 행과 m 개의 열 shape것이다 (n,m). shape따라서 튜플 의 길이는 축의 수입니다 ndim."
   ]
  },
  {
   "cell_type": "code",
   "execution_count": 4,
   "id": "3576d382",
   "metadata": {},
   "outputs": [
    {
     "data": {
      "text/plain": [
       "(3, 5)"
      ]
     },
     "execution_count": 4,
     "metadata": {},
     "output_type": "execute_result"
    }
   ],
   "source": [
    "a.shape  # 배열의 크기 확인 >>>> 예; (세로, 가로)"
   ]
  },
  {
   "cell_type": "markdown",
   "id": "1bb38e1d",
   "metadata": {},
   "source": [
    "####  ndarray.ndim\n",
    "배열의 축 (차원) 수입니다."
   ]
  },
  {
   "cell_type": "code",
   "execution_count": 5,
   "id": "5df0e08f",
   "metadata": {},
   "outputs": [
    {
     "data": {
      "text/plain": [
       "2"
      ]
     },
     "execution_count": 5,
     "metadata": {},
     "output_type": "execute_result"
    }
   ],
   "source": [
    "a.ndim"
   ]
  },
  {
   "cell_type": "markdown",
   "id": "64b0bc2d",
   "metadata": {},
   "source": [
    "#### ndarray.dtype\n",
    "배열의 요소 유형을 설명하는 개체입니다. 표준 Python 유형을 사용하여 dtype을 만들거나 지정할 수 있습니다. 또한 NumPy는 자체 유형을 제공합니다. numpy.int32, numpy.int16 및 numpy.float64가 몇 가지 예입니다."
   ]
  },
  {
   "cell_type": "code",
   "execution_count": 6,
   "id": "d6fa3083",
   "metadata": {},
   "outputs": [
    {
     "data": {
      "text/plain": [
       "'int32'"
      ]
     },
     "execution_count": 6,
     "metadata": {},
     "output_type": "execute_result"
    }
   ],
   "source": [
    "a.dtype.name "
   ]
  },
  {
   "cell_type": "markdown",
   "id": "b604bf52",
   "metadata": {},
   "source": [
    "#### ndarray.itemsize\n",
    "배열의 각 요소 크기 (바이트) 예를 들어, 유형의 요소 배열 float64은 itemsize8 (= 64 / 8)이고 유형 중 하나 complex32는 itemsize4 (= 32 / 8)입니다. 와 동일합니다 ndarray.dtype.itemsize."
   ]
  },
  {
   "cell_type": "code",
   "execution_count": 7,
   "id": "0479a2c1",
   "metadata": {},
   "outputs": [
    {
     "data": {
      "text/plain": [
       "4"
      ]
     },
     "execution_count": 7,
     "metadata": {},
     "output_type": "execute_result"
    }
   ],
   "source": [
    "a.itemsize "
   ]
  },
  {
   "cell_type": "markdown",
   "id": "df5603bc",
   "metadata": {},
   "source": [
    "#### ndarray.size\n",
    "배열의 총 요소 수입니다. 이것은의 요소의 곱과 같습니다 shape."
   ]
  },
  {
   "cell_type": "code",
   "execution_count": 8,
   "id": "2b393166",
   "metadata": {},
   "outputs": [
    {
     "data": {
      "text/plain": [
       "15"
      ]
     },
     "execution_count": 8,
     "metadata": {},
     "output_type": "execute_result"
    }
   ],
   "source": [
    "a.size"
   ]
  },
  {
   "cell_type": "code",
   "execution_count": 9,
   "id": "c0f2f36b",
   "metadata": {},
   "outputs": [
    {
     "data": {
      "text/plain": [
       "numpy.ndarray"
      ]
     },
     "execution_count": 9,
     "metadata": {},
     "output_type": "execute_result"
    }
   ],
   "source": [
    "type(a)"
   ]
  },
  {
   "cell_type": "code",
   "execution_count": 10,
   "id": "5788e460",
   "metadata": {},
   "outputs": [
    {
     "data": {
      "text/plain": [
       "array([6, 7, 8])"
      ]
     },
     "execution_count": 10,
     "metadata": {},
     "output_type": "execute_result"
    }
   ],
   "source": [
    "b = np.array([6, 7, 8])\n",
    "\n",
    "b"
   ]
  },
  {
   "cell_type": "markdown",
   "id": "84046f72",
   "metadata": {},
   "source": [
    "#### 데이터 타입형태 변환\n",
    "> float64를 int64로 변환하기\n",
    "https://rfriend.tistory.com/285"
   ]
  },
  {
   "cell_type": "code",
   "execution_count": 11,
   "id": "1ac3387d",
   "metadata": {},
   "outputs": [
    {
     "data": {
      "text/plain": [
       "array([1.4 , 2.6 , 3.  , 4.9 , 5.32])"
      ]
     },
     "execution_count": 11,
     "metadata": {},
     "output_type": "execute_result"
    }
   ],
   "source": [
    "x_float64 = np.array([1.4, 2.6, 3.0, 4.9, 5.32], dtype=np.float64)\n",
    "x_float64 # original data"
   ]
  },
  {
   "cell_type": "code",
   "execution_count": 12,
   "id": "c853b09c",
   "metadata": {},
   "outputs": [
    {
     "data": {
      "text/plain": [
       "dtype('float64')"
      ]
     },
     "execution_count": 12,
     "metadata": {},
     "output_type": "execute_result"
    }
   ],
   "source": [
    "x_float64.dtype"
   ]
  },
  {
   "cell_type": "code",
   "execution_count": 13,
   "id": "47afe5de",
   "metadata": {},
   "outputs": [
    {
     "data": {
      "text/plain": [
       "dtype('int64')"
      ]
     },
     "execution_count": 13,
     "metadata": {},
     "output_type": "execute_result"
    }
   ],
   "source": [
    "# object.astype(np.int64)\n",
    "x_int64 = x_float64.astype(np.int64) # the decimal parts are truncated\n",
    "x_int64.dtype"
   ]
  },
  {
   "cell_type": "code",
   "execution_count": 14,
   "id": "de22fa3a",
   "metadata": {},
   "outputs": [
    {
     "data": {
      "text/plain": [
       "array([1, 2, 3, 4, 5], dtype=int64)"
      ]
     },
     "execution_count": 14,
     "metadata": {},
     "output_type": "execute_result"
    }
   ],
   "source": [
    "x_int64"
   ]
  },
  {
   "cell_type": "markdown",
   "id": "a3cc94d3",
   "metadata": {},
   "source": [
    "## 배열 생성"
   ]
  },
  {
   "cell_type": "code",
   "execution_count": null,
   "id": "c83dfb01",
   "metadata": {},
   "outputs": [],
   "source": [
    "# https://numpy.org/doc/stable/user/quickstart.html"
   ]
  }
 ],
 "metadata": {
  "kernelspec": {
   "display_name": "Python 3",
   "language": "python",
   "name": "python3"
  },
  "language_info": {
   "codemirror_mode": {
    "name": "ipython",
    "version": 3
   },
   "file_extension": ".py",
   "mimetype": "text/x-python",
   "name": "python",
   "nbconvert_exporter": "python",
   "pygments_lexer": "ipython3",
   "version": "3.8.8"
  }
 },
 "nbformat": 4,
 "nbformat_minor": 5
}
