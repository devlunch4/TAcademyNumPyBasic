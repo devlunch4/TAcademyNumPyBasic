{
 "cells": [
  {
   "cell_type": "code",
   "execution_count": 1,
   "id": "6fa6ca7d",
   "metadata": {},
   "outputs": [],
   "source": [
    "Celltrion_text = ['Celltrion, Inc. and its subsidiaries','Consolidated financial statements','for the years ended December 31, 2019 and 2018 with the independent auditor’s report',\n",
    "'Table of contents','Independent auditor’s report']\n",
    "ex_celltrion_list = []\n",
    "temp_text = \"\"\n",
    "for i in range(0, len(Celltrion_text)):\n",
    "    if Celltrion_text[i][0].islower() == True :\n",
    "        temp_text += Celltrion_text[i]\n",
    "       \n",
    "    else:\n",
    "        temp_text += Celltrion_text[i]\n",
    "        ex_celltrion_list.append(temp_text)\n",
    "        temp_text = \"\""
   ]
  },
  {
   "cell_type": "code",
   "execution_count": 2,
   "id": "3e214072",
   "metadata": {
    "scrolled": true
   },
   "outputs": [
    {
     "data": {
      "text/plain": [
       "['Celltrion, Inc. and its subsidiaries',\n",
       " 'Consolidated financial statements',\n",
       " 'for the years ended December 31, 2019 and 2018 with the independent auditor’s reportTable of contents',\n",
       " 'Independent auditor’s report']"
      ]
     },
     "execution_count": 2,
     "metadata": {},
     "output_type": "execute_result"
    }
   ],
   "source": [
    "ex_celltrion_list"
   ]
  },
  {
   "cell_type": "code",
   "execution_count": 3,
   "id": "2eb12ec4",
   "metadata": {},
   "outputs": [],
   "source": [
    "Celltrion_text = ['Celltrion, Inc. and its subsidiaries','Consolidated financial statements','for the years ended December 31, 2019 and 2018 with the independent auditor’s report',\n",
    "'Table of contents','Independent auditor’s report']\n",
    "\n",
    "## range 주의를 위해\n",
    "Celltrion_text.append(\"000\")\n",
    "\n",
    "ex_celltrion_list = []\n",
    "temp_text = \"\"\n",
    "for i in range(0, len(Celltrion_text)):\n",
    "    if Celltrion_text[i-1][0].isupper() == True :\n",
    "        if Celltrion_text[i][0].islower() == True :\n",
    "            temp_text += Celltrion_text[i-1] + \" \"\n",
    "        else:\n",
    "            temp_text += Celltrion_text[i-1]\n",
    "            ex_celltrion_list.append(temp_text)\n",
    "            temp_text = \"\"\n",
    "    else :\n",
    "            temp_text += Celltrion_text[i-1]\n",
    "            ex_celltrion_list.append(temp_text)\n",
    "            temp_text = \"\""
   ]
  },
  {
   "cell_type": "code",
   "execution_count": 4,
   "id": "f6ec9a1d",
   "metadata": {},
   "outputs": [
    {
     "data": {
      "text/plain": [
       "['000',\n",
       " 'Celltrion, Inc. and its subsidiaries',\n",
       " 'Consolidated financial statements for the years ended December 31, 2019 and 2018 with the independent auditor’s report',\n",
       " 'Table of contents',\n",
       " 'Independent auditor’s report']"
      ]
     },
     "execution_count": 4,
     "metadata": {},
     "output_type": "execute_result"
    }
   ],
   "source": [
    "ex_celltrion_list"
   ]
  },
  {
   "cell_type": "code",
   "execution_count": 5,
   "id": "a4328079",
   "metadata": {},
   "outputs": [],
   "source": [
    "# ex list create\n",
    "Celltrion_text =['Identifying internal controls related to the review on an indication of impairment and an impairment',\n",
    " 'assessment of development costs and evaluating the effectiveness of such controls',\n",
    " \"\\uf0d8 Evaluating the rationality of the Group's assumptions about the likelihood of obtaining regulatory approvals\",\n",
    " 'by comparing the progress of major projects under development with industry practices and through inquiry',\n",
    " 'of industry prospects',\n",
    " \"\\uf0d8 Assessing methodology and discount rate used by management by internal valuation specialists \\uf0d8 Reviewing variables applied to management's projections and future cash flows\",\n",
    " '\\uf0d8 Identifying and analyzing changes in assumptions used in past periods to assess consistency of',\n",
    " 'assumptions',\n",
    " 'A member firm of Ernst & Young Global Limited',\n",
    " 'Responsibilities of management and those charged with governance for the consolidated financial statements',\n",
    " 'Management is responsible for the preparation and fair presentation of the consolidated financial statements in accordance with KIFRS, and for such internal control as management determines is necessary to enable the preparation of the consolidated financial statements that are free from material misstatement, whether due to fraud or error.',\n",
    " 'In preparing the consolidated financial statements, management is responsible for assessing the Group’s ability to continue as a going concern, disclosing, as applicable, matters related to going concern and using the going concern basis of accounting unless management either intends to liquidate the Group or to cease operations, or has no realistic alternative but to do so.',\n",
    " 'Those charged with governance are responsible for overseeing the Group’s financial reporting process.',\n",
    " 'Auditor’s responsibilities for the audit of the consolidated financial statements',\n",
    " 'Our objectives are to obtain reasonable assurance about whether the consolidated financial statements as a whole are free from material misstatement, whether due to fraud or error, and to issue an auditor’s report that includes our opinion. Reasonable assurance is a high level of assurance, but is not a guarantee that an audit conducted in accordance with KGAAS will always detect a material misstatement when it exists. Misstatements can arise from fraud or error and are considered material if, individually or in the aggregate, they could reasonably be expected to influence the economic decisions of users taken on the basis of these consolidated financial statements.',\n",
    " 'As part of an audit in accordance with KGAAS, we exercise professional judgment and maintain professional skepticism throughout the audit. We also:',\n",
    " '\\uf0d8',\n",
    " 'Identify and assess the risks of material misstatement of the consolidated financial statements, whether',\n",
    " 'due to fraud or error, design and perform audit procedures responsive to those risks, and obtain audit',\n",
    " 'evidence that is sufficient and appropriate to provide a basis for our opinion. The risk of not detecting a',\n",
    " 'material misstatement resulting from fraud is higher than for one resulting from error, as fraud may involve',\n",
    " 'collusion, forgery, intentional omissions, misrepresentations, or the override of internal control.',\n",
    " '\\uf0d8',\n",
    " 'Obtain an understanding of internal control relevant to the audit in order to design audit procedures that',\n",
    " 'are appropriate in the circumstances, but not for the purpose of expressing an opinion on the effectiveness',\n",
    " 'of the Group’s internal control.',\n",
    " 'Evaluate the appropriateness of accounting policies used and the reasonableness of accounting estimates \\uf0d8',\n",
    " 'and related disclosures made by management.',\n",
    " '\\uf0d8',\n",
    " 'Conclude on the appropriateness of management’s use of the going concern basis of accounting and,',\n",
    " 'based on the audit evidence obtained, whether a material uncertainty exists related to events or conditions',\n",
    " 'that may cast significant doubt on the Group’s ability to continue as a going concern. If we conclude that a',\n",
    " 'material uncertainty exists, we are required to draw attention in our auditor’s report to the related',\n",
    " 'disclosures in the consolidated financial statements or, if such disclosures are inadequate, to modify our',\n",
    " 'opinion. Our conclusions are based on the audit evidence obtained up to the date of our auditor’s report.',\n",
    " 'However, future events or conditions may cause the Group to cease to continue as a going concern. \\uf0d8',\n",
    " 'Evaluate the overall presentation, structure and content of the consolidated financial statements, including',\n",
    " 'the disclosures, and whether the consolidated financial statements represent the underlying transactions',\n",
    " 'and events in a manner that achieves fair presentation.',\n",
    " '\\uf0d8',\n",
    " 'Obtain sufficient appropriate audit evidence regarding the financial information of the entities or business',\n",
    " 'activities within the Group to express an opinion on the consolidated financial statements. We are',\n",
    " 'responsible for the direction, supervision and performance of the group audit. We remain solely responsible',\n",
    " 'for our audit opinion.',\n",
    " 'A member firm of Ernst & Young Global Limited',\n",
    " 'We communicate with those charged with governance regarding, among other matters, the planned scope and timing of the audit and significant audit findings, including any significant deficiencies in internal control that we identify during our audit.',\n",
    " 'We also provide those charged with governance with a statement that we have complied with relevant ethical requirements regarding independence, and to communicate with them all relationships and other matters that may reasonably be thought to bear on our independence, and where applicable, related safeguards. From the matter communicated with those charged with governance, we determine those matters that were of most significance in the audit of the consolidated financial statements of the current period and are therefore the key audit matters. We describe these matters in our auditor’s report unless law or regulation precludes public disclosure about the matter or when, in extremely rare circumstances, we determine that a matter should not be communicated in our report because the adverse consequences of doing so would reasonably be expected to outweigh the public interest benefits of such communication.',\n",
    " 'The engagement partner on the audit resulting in this independent auditor’s report is In Jae Lee.',\n",
    " 'March 19, 2020',\n",
    " 'A member firm of Ernst & Young Global Limited',\n",
    " 'Celltrion, Inc. and its subsidiaries',\n",
    " 'Consolidated financial statements',\n",
    " 'for the years ended December 31, 2019 and 2018',\n",
    " '“The accompanying consolidated financial statements, including all footnotes and disclosures, have',\n",
    " 'been prepared by, and are the responsibility of, the Company.”',\n",
    " 'Kee, Woo Sung',\n",
    " 'Chief Executive Officer',\n",
    " 'Celltrion, Inc.',\n",
    " 'Celltrion, Inc. and its subsidiaries',\n",
    " 'Consolidated statements of financial position',\n",
    " 'as of December 31, 2019 and 2018',\n",
    " '(Korean won in millions)',\n",
    " 'The accompanying notes are an integral part of the consolidated financial statements.',\n",
    " '1',\n",
    " 'Celltrion, Inc. and its subsidiaries',\n",
    " 'Consolidated statements of profit or loss',\n",
    " 'for the years ended December 31, 2019 and 2018',\n",
    " '(Korean won in millions, except per share amounts)',\n",
    " 'The accompanying notes are an integral part of the consolidated financial statements.',\n",
    " '2']"
   ]
  },
  {
   "cell_type": "code",
   "execution_count": 6,
   "id": "3e6b982f",
   "metadata": {},
   "outputs": [],
   "source": [
    "## range 주의를 위해\n",
    "Celltrion_text.append(\"000\")\n",
    "ex_celltrion_list = []\n",
    "temp_text = \"\"\n",
    "for i in range(0, len(Celltrion_text)):\n",
    "    if Celltrion_text[i-1][0].isupper() == True :\n",
    "        if Celltrion_text[i][0].islower() == True :\n",
    "            temp_text += Celltrion_text[i-1] + \" \"\n",
    "        else:\n",
    "            temp_text += Celltrion_text[i-1]\n",
    "            ex_celltrion_list.append(temp_text)\n",
    "            temp_text = \"\"\n",
    "    else :\n",
    "        if Celltrion_text[i][0].islower() == True :\n",
    "            temp_text += Celltrion_text[i-1] + \" \"\n",
    "        else:\n",
    "            temp_text += Celltrion_text[i-1]\n",
    "            ex_celltrion_list.append(temp_text)\n",
    "            temp_text = \"\""
   ]
  },
  {
   "cell_type": "code",
   "execution_count": 7,
   "id": "411dded8",
   "metadata": {},
   "outputs": [
    {
     "data": {
      "text/plain": [
       "['000',\n",
       " 'Identifying internal controls related to the review on an indication of impairment and an impairment assessment of development costs and evaluating the effectiveness of such controls',\n",
       " \"\\uf0d8 Evaluating the rationality of the Group's assumptions about the likelihood of obtaining regulatory approvals by comparing the progress of major projects under development with industry practices and through inquiry of industry prospects\",\n",
       " \"\\uf0d8 Assessing methodology and discount rate used by management by internal valuation specialists \\uf0d8 Reviewing variables applied to management's projections and future cash flows\",\n",
       " '\\uf0d8 Identifying and analyzing changes in assumptions used in past periods to assess consistency of assumptions',\n",
       " 'A member firm of Ernst & Young Global Limited',\n",
       " 'Responsibilities of management and those charged with governance for the consolidated financial statements',\n",
       " 'Management is responsible for the preparation and fair presentation of the consolidated financial statements in accordance with KIFRS, and for such internal control as management determines is necessary to enable the preparation of the consolidated financial statements that are free from material misstatement, whether due to fraud or error.',\n",
       " 'In preparing the consolidated financial statements, management is responsible for assessing the Group’s ability to continue as a going concern, disclosing, as applicable, matters related to going concern and using the going concern basis of accounting unless management either intends to liquidate the Group or to cease operations, or has no realistic alternative but to do so.',\n",
       " 'Those charged with governance are responsible for overseeing the Group’s financial reporting process.',\n",
       " 'Auditor’s responsibilities for the audit of the consolidated financial statements',\n",
       " 'Our objectives are to obtain reasonable assurance about whether the consolidated financial statements as a whole are free from material misstatement, whether due to fraud or error, and to issue an auditor’s report that includes our opinion. Reasonable assurance is a high level of assurance, but is not a guarantee that an audit conducted in accordance with KGAAS will always detect a material misstatement when it exists. Misstatements can arise from fraud or error and are considered material if, individually or in the aggregate, they could reasonably be expected to influence the economic decisions of users taken on the basis of these consolidated financial statements.',\n",
       " 'As part of an audit in accordance with KGAAS, we exercise professional judgment and maintain professional skepticism throughout the audit. We also:',\n",
       " '\\uf0d8',\n",
       " 'Identify and assess the risks of material misstatement of the consolidated financial statements, whether due to fraud or error, design and perform audit procedures responsive to those risks, and obtain audit evidence that is sufficient and appropriate to provide a basis for our opinion. The risk of not detecting a material misstatement resulting from fraud is higher than for one resulting from error, as fraud may involve collusion, forgery, intentional omissions, misrepresentations, or the override of internal control.',\n",
       " '\\uf0d8',\n",
       " 'Obtain an understanding of internal control relevant to the audit in order to design audit procedures that are appropriate in the circumstances, but not for the purpose of expressing an opinion on the effectiveness of the Group’s internal control.',\n",
       " 'Evaluate the appropriateness of accounting policies used and the reasonableness of accounting estimates \\uf0d8 and related disclosures made by management.',\n",
       " '\\uf0d8',\n",
       " 'Conclude on the appropriateness of management’s use of the going concern basis of accounting and, based on the audit evidence obtained, whether a material uncertainty exists related to events or conditions that may cast significant doubt on the Group’s ability to continue as a going concern. If we conclude that a material uncertainty exists, we are required to draw attention in our auditor’s report to the related disclosures in the consolidated financial statements or, if such disclosures are inadequate, to modify our opinion. Our conclusions are based on the audit evidence obtained up to the date of our auditor’s report.',\n",
       " 'However, future events or conditions may cause the Group to cease to continue as a going concern. \\uf0d8',\n",
       " 'Evaluate the overall presentation, structure and content of the consolidated financial statements, including the disclosures, and whether the consolidated financial statements represent the underlying transactions and events in a manner that achieves fair presentation.',\n",
       " '\\uf0d8',\n",
       " 'Obtain sufficient appropriate audit evidence regarding the financial information of the entities or business activities within the Group to express an opinion on the consolidated financial statements. We are responsible for the direction, supervision and performance of the group audit. We remain solely responsible for our audit opinion.',\n",
       " 'A member firm of Ernst & Young Global Limited',\n",
       " 'We communicate with those charged with governance regarding, among other matters, the planned scope and timing of the audit and significant audit findings, including any significant deficiencies in internal control that we identify during our audit.',\n",
       " 'We also provide those charged with governance with a statement that we have complied with relevant ethical requirements regarding independence, and to communicate with them all relationships and other matters that may reasonably be thought to bear on our independence, and where applicable, related safeguards. From the matter communicated with those charged with governance, we determine those matters that were of most significance in the audit of the consolidated financial statements of the current period and are therefore the key audit matters. We describe these matters in our auditor’s report unless law or regulation precludes public disclosure about the matter or when, in extremely rare circumstances, we determine that a matter should not be communicated in our report because the adverse consequences of doing so would reasonably be expected to outweigh the public interest benefits of such communication.',\n",
       " 'The engagement partner on the audit resulting in this independent auditor’s report is In Jae Lee.',\n",
       " 'March 19, 2020',\n",
       " 'A member firm of Ernst & Young Global Limited',\n",
       " 'Celltrion, Inc. and its subsidiaries',\n",
       " 'Consolidated financial statements for the years ended December 31, 2019 and 2018',\n",
       " '“The accompanying consolidated financial statements, including all footnotes and disclosures, have been prepared by, and are the responsibility of, the Company.”',\n",
       " 'Kee, Woo Sung',\n",
       " 'Chief Executive Officer',\n",
       " 'Celltrion, Inc.',\n",
       " 'Celltrion, Inc. and its subsidiaries',\n",
       " 'Consolidated statements of financial position as of December 31, 2019 and 2018',\n",
       " '(Korean won in millions)',\n",
       " 'The accompanying notes are an integral part of the consolidated financial statements.',\n",
       " '1',\n",
       " 'Celltrion, Inc. and its subsidiaries',\n",
       " 'Consolidated statements of profit or loss for the years ended December 31, 2019 and 2018',\n",
       " '(Korean won in millions, except per share amounts)',\n",
       " 'The accompanying notes are an integral part of the consolidated financial statements.',\n",
       " '2']"
      ]
     },
     "execution_count": 7,
     "metadata": {},
     "output_type": "execute_result"
    }
   ],
   "source": [
    "ex_celltrion_list"
   ]
  },
  {
   "cell_type": "code",
   "execution_count": null,
   "id": "afc580c5",
   "metadata": {},
   "outputs": [],
   "source": []
  }
 ],
 "metadata": {
  "kernelspec": {
   "display_name": "Python 3",
   "language": "python",
   "name": "python3"
  },
  "language_info": {
   "codemirror_mode": {
    "name": "ipython",
    "version": 3
   },
   "file_extension": ".py",
   "mimetype": "text/x-python",
   "name": "python",
   "nbconvert_exporter": "python",
   "pygments_lexer": "ipython3",
   "version": "3.8.8"
  }
 },
 "nbformat": 4,
 "nbformat_minor": 5
}
